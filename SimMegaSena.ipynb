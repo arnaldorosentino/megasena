{
  "nbformat": 4,
  "nbformat_minor": 0,
  "metadata": {
    "colab": {
      "name": "SimMegaSena.ipynb",
      "provenance": [],
      "authorship_tag": "ABX9TyPfVOVMQ47WdH4miBVWDoaN",
      "include_colab_link": true
    },
    "kernelspec": {
      "name": "python3",
      "display_name": "Python 3"
    },
    "language_info": {
      "name": "python"
    }
  },
  "cells": [
    {
      "cell_type": "markdown",
      "metadata": {
        "id": "view-in-github",
        "colab_type": "text"
      },
      "source": [
        "<a href=\"https://colab.research.google.com/github/arnaldorosentino/megasena/blob/main/SimMegaSena.ipynb\" target=\"_parent\"><img src=\"https://colab.research.google.com/assets/colab-badge.svg\" alt=\"Open In Colab\"/></a>"
      ]
    },
    {
      "cell_type": "markdown",
      "source": [
        "- Atividade 1:\n",
        "\n",
        "Simule a quantidade de jogos e veja a frequencia com que cada quantidade de acertos acontece. Esse é cenário em que alguém fez um jogo simples em todos os concursos da Mega-sena."
      ],
      "metadata": {
        "id": "xabytoKwevez"
      }
    },
    {
      "cell_type": "code",
      "source": [
        "# Atividade 1:\n",
        "\n",
        "freq = []\n",
        "for i in range (2470):\n",
        "  meujogo = set(random.sample(range(1,61),6))\n",
        "  sorteio = set(random.sample(range(1,61),6))\n",
        "  acertos = meujogo.intersection(sorteio)\n",
        "  n_acertos = len(acertos)\n",
        "  freq.append(n_acertos)\n",
        "\n",
        "print(f'Frequência de 1 acerto: {freq.count(1)}')\n",
        "print(f'Frequência de 2 acertos: {freq.count(2)}') \n",
        "print(f'Frequência de 3 acertos: {freq.count(3)}') \n",
        "print(f'Frequência de 4 acertos: {freq.count(4)}') \n",
        "print(f'Frequência de 5 acertos: {freq.count(5)}') \n",
        "print(f'Frequência de 6 acertos: {freq.count(6)}')  "
      ],
      "metadata": {
        "colab": {
          "base_uri": "https://localhost:8080/"
        },
        "id": "qbMq1QYVcc4i",
        "outputId": "6e35a1f4-1225-4bad-d2f4-730a858218b5"
      },
      "execution_count": null,
      "outputs": [
        {
          "output_type": "stream",
          "name": "stdout",
          "text": [
            "Frequência de 1 acerto: 977\n",
            "Frequência de 2 acertos: 240\n",
            "Frequência de 3 acertos: 18\n",
            "Frequência de 4 acertos: 0\n",
            "Frequência de 5 acertos: 0\n",
            "Frequência de 6 acertos: 0\n"
          ]
        }
      ]
    },
    {
      "cell_type": "markdown",
      "source": [
        "- Atividade 2:\n",
        "\n",
        "Simule o cenário em que uma pessoa jogou 1000x cada concurso da Mega-sena, e verifique os mesmos resultados. Repita o experimento e analise a variabilidade dos números obtidos."
      ],
      "metadata": {
        "id": "F5EDv3bYfEk0"
      }
    },
    {
      "cell_type": "code",
      "source": [
        "# Atividade 2:\n",
        "\n",
        "freq = []\n",
        "for i in range (2470):\n",
        "  sorteio = set(random.sample(range(1,61),6))\n",
        "  for n in range (1001):\n",
        "    meujogo = set(random.sample(range(1,61),6))\n",
        "    acertos = meujogo.intersection(sorteio)\n",
        "    n_acertos = len(acertos)\n",
        "    freq.append(n_acertos)\n",
        "\n",
        "print(f'Frequência de 1 acerto: {freq.count(1)}')\n",
        "print(f'Frequência de 2 acertos: {freq.count(2)}') \n",
        "print(f'Frequência de 3 acertos: {freq.count(3)}') \n",
        "print(f'Frequência de 4 acertos: {freq.count(4)}') \n",
        "print(f'Frequência de 5 acertos: {freq.count(5)}') \n",
        "print(f'Frequência de 6 acertos: {freq.count(6)}') "
      ],
      "metadata": {
        "colab": {
          "base_uri": "https://localhost:8080/"
        },
        "id": "UwAzdDyyfZwl",
        "outputId": "2d7a37b0-a90a-47a0-8286-e87d87a77ea9"
      },
      "execution_count": null,
      "outputs": [
        {
          "output_type": "stream",
          "name": "stdout",
          "text": [
            "Frequência de 1 acerto: 936569\n",
            "Frequência de 2 acertos: 234337\n",
            "Frequência de 3 acertos: 24350\n",
            "Frequência de 4 acertos: 1009\n",
            "Frequência de 5 acertos: 10\n",
            "Frequência de 6 acertos: 0\n"
          ]
        }
      ]
    },
    {
      "cell_type": "markdown",
      "source": [
        "- Atividade 3:\n",
        "\n",
        "Faça um programa que conte as tentativas até que ocorra a primeira quina no jogo simulado da Mega-sena. Repita o procedimento 1000x e obtenha o número médio de vezes que alguém precisa jogar até conseguir a sua primeira quina."
      ],
      "metadata": {
        "id": "JJxuNhG4gvP4"
      }
    },
    {
      "cell_type": "code",
      "source": [
        "# Atividade 3:\n",
        "\n",
        "# Premissa: Sorteio é alterado\n",
        "\n",
        "eventos = 2\n",
        "soma = 0\n",
        "freq = []\n",
        "\n",
        "  \n",
        "for x in range (eventos):\n",
        "  n = 0\n",
        "  n_acertos = 0\n",
        "  sorteio = set(random.sample(range(1,61),6))\n",
        "  while n_acertos < 5:\n",
        "    meujogo = set(random.sample(range(1,61),6))\n",
        "    acertos = meujogo.intersection(sorteio)\n",
        "    n_acertos = len(acertos)\n",
        "    n += 1\n",
        "  freq.append(n)\n",
        "\n",
        "for y in freq:\n",
        "  soma += y\n",
        "media = round(soma/eventos)\n",
        "media\n",
        "\n",
        "\n",
        "    "
      ],
      "metadata": {
        "id": "fvHULGBOhHfa",
        "colab": {
          "base_uri": "https://localhost:8080/"
        },
        "outputId": "ba18db30-fc0b-41c3-a0b4-2b64a2125e21"
      },
      "execution_count": null,
      "outputs": [
        {
          "output_type": "execute_result",
          "data": {
            "text/plain": [
              "220928"
            ]
          },
          "metadata": {},
          "execution_count": 150
        }
      ]
    },
    {
      "cell_type": "code",
      "source": [
        "# Atividade 3:\n",
        "\n",
        "# Premissa: Sorteio é fixado\n",
        "\n",
        "eventos = 100\n",
        "soma = 0\n",
        "freq = []\n",
        "\n",
        "sorteio = set(random.sample(range(1,61),6))\n",
        "\n",
        "for x in range (eventos):\n",
        "  n = 0\n",
        "  n_acertos = 0\n",
        "  while n_acertos < 5:\n",
        "    meujogo = set(random.sample(range(1,61),6))\n",
        "    acertos = meujogo.intersection(sorteio)\n",
        "    n_acertos = len(acertos)\n",
        "    n += 1\n",
        "  freq.append(n)\n",
        "\n",
        "for y in freq:\n",
        "  soma += y\n",
        "media = round(soma/eventos)\n",
        "media\n",
        "\n",
        "# valor_medio = sum(freq)/len(freq)\n"
      ],
      "metadata": {
        "colab": {
          "base_uri": "https://localhost:8080/"
        },
        "id": "5YtElo4KxCCE",
        "outputId": "76161302-8914-45ab-9bcd-230f6ab5b850"
      },
      "execution_count": null,
      "outputs": [
        {
          "output_type": "execute_result",
          "data": {
            "text/plain": [
              "158939"
            ]
          },
          "metadata": {},
          "execution_count": 154
        }
      ]
    }
  ]
}